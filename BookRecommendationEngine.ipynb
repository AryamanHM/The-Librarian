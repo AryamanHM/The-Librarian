{
 "cells": [
  {
   "cell_type": "markdown",
   "metadata": {},
   "source": [
    "![alt text](https://greenheritagellc.github.io/portal/images//Green%20Heritage%20Logo.png \"Logo Title Text 1\")"
   ]
  },
  {
   "cell_type": "markdown",
   "metadata": {},
   "source": [
    "# Books Recommendation Engine"
   ]
  },
  {
   "cell_type": "markdown",
   "metadata": {},
   "source": [
    "* This notebook recommends a set of books similar to other books based on crowdsourced book rating by users\n",
    "* It uses item based collberative filtering to achieve this\n",
    "* Citation: Books dataset has been downloaded from http://fastml.com/goodbooks-10k-a-new-dataset-for-book-recommendations/"
   ]
  },
  {
   "cell_type": "code",
   "execution_count": null,
   "metadata": {},
   "outputs": [],
   "source": []
  },
  {
   "cell_type": "code",
   "execution_count": 2,
   "metadata": {},
   "outputs": [],
   "source": [
    "%matplotlib inline\n",
    "import pandas as pd\n",
    "import numpy as np\n",
    "from numpy import int64\n",
    "\n",
    "import requests\n",
    "import IPython.display as Disp\n",
    "\n",
    "import sklearn\n",
    "from sklearn.decomposition import TruncatedSVD\n"
   ]
  },
  {
   "cell_type": "markdown",
   "metadata": {},
   "source": [
    "### download books and ratings info"
   ]
  },
  {
   "cell_type": "code",
   "execution_count": 3,
   "metadata": {},
   "outputs": [],
   "source": [
    " books_df = pd.read_csv(\"./dataset/books.csv\")\n",
    " ratings_df = pd.read_csv(\"./dataset/ratings.csv\", encoding='UTF-8',  dtype={'user_id': int,'book_id':int, 'rating':int} )"
   ]
  },
  {
   "cell_type": "code",
   "execution_count": 4,
   "metadata": {},
   "outputs": [
    {
     "data": {
      "text/html": [
       "<div>\n",
       "<style scoped>\n",
       "    .dataframe tbody tr th:only-of-type {\n",
       "        vertical-align: middle;\n",
       "    }\n",
       "\n",
       "    .dataframe tbody tr th {\n",
       "        vertical-align: top;\n",
       "    }\n",
       "\n",
       "    .dataframe thead th {\n",
       "        text-align: right;\n",
       "    }\n",
       "</style>\n",
       "<table border=\"1\" class=\"dataframe\">\n",
       "  <thead>\n",
       "    <tr style=\"text-align: right;\">\n",
       "      <th></th>\n",
       "      <th>book_id</th>\n",
       "      <th>goodreads_book_id</th>\n",
       "      <th>best_book_id</th>\n",
       "      <th>work_id</th>\n",
       "      <th>books_count</th>\n",
       "      <th>isbn</th>\n",
       "      <th>isbn13</th>\n",
       "      <th>authors</th>\n",
       "      <th>original_publication_year</th>\n",
       "      <th>original_title</th>\n",
       "      <th>...</th>\n",
       "      <th>ratings_count</th>\n",
       "      <th>work_ratings_count</th>\n",
       "      <th>work_text_reviews_count</th>\n",
       "      <th>ratings_1</th>\n",
       "      <th>ratings_2</th>\n",
       "      <th>ratings_3</th>\n",
       "      <th>ratings_4</th>\n",
       "      <th>ratings_5</th>\n",
       "      <th>image_url</th>\n",
       "      <th>small_image_url</th>\n",
       "    </tr>\n",
       "  </thead>\n",
       "  <tbody>\n",
       "    <tr>\n",
       "      <td>0</td>\n",
       "      <td>1</td>\n",
       "      <td>2767052</td>\n",
       "      <td>2767052</td>\n",
       "      <td>2792775</td>\n",
       "      <td>272</td>\n",
       "      <td>439023483</td>\n",
       "      <td>9.780439e+12</td>\n",
       "      <td>Suzanne Collins</td>\n",
       "      <td>2008.0</td>\n",
       "      <td>The Hunger Games</td>\n",
       "      <td>...</td>\n",
       "      <td>4780653</td>\n",
       "      <td>4942365</td>\n",
       "      <td>155254</td>\n",
       "      <td>66715</td>\n",
       "      <td>127936</td>\n",
       "      <td>560092</td>\n",
       "      <td>1481305</td>\n",
       "      <td>2706317</td>\n",
       "      <td>https://images.gr-assets.com/books/1447303603m...</td>\n",
       "      <td>https://images.gr-assets.com/books/1447303603s...</td>\n",
       "    </tr>\n",
       "    <tr>\n",
       "      <td>1</td>\n",
       "      <td>2</td>\n",
       "      <td>3</td>\n",
       "      <td>3</td>\n",
       "      <td>4640799</td>\n",
       "      <td>491</td>\n",
       "      <td>439554934</td>\n",
       "      <td>9.780440e+12</td>\n",
       "      <td>J.K. Rowling, Mary GrandPré</td>\n",
       "      <td>1997.0</td>\n",
       "      <td>Harry Potter and the Philosopher's Stone</td>\n",
       "      <td>...</td>\n",
       "      <td>4602479</td>\n",
       "      <td>4800065</td>\n",
       "      <td>75867</td>\n",
       "      <td>75504</td>\n",
       "      <td>101676</td>\n",
       "      <td>455024</td>\n",
       "      <td>1156318</td>\n",
       "      <td>3011543</td>\n",
       "      <td>https://images.gr-assets.com/books/1474154022m...</td>\n",
       "      <td>https://images.gr-assets.com/books/1474154022s...</td>\n",
       "    </tr>\n",
       "    <tr>\n",
       "      <td>2</td>\n",
       "      <td>3</td>\n",
       "      <td>41865</td>\n",
       "      <td>41865</td>\n",
       "      <td>3212258</td>\n",
       "      <td>226</td>\n",
       "      <td>316015849</td>\n",
       "      <td>9.780316e+12</td>\n",
       "      <td>Stephenie Meyer</td>\n",
       "      <td>2005.0</td>\n",
       "      <td>Twilight</td>\n",
       "      <td>...</td>\n",
       "      <td>3866839</td>\n",
       "      <td>3916824</td>\n",
       "      <td>95009</td>\n",
       "      <td>456191</td>\n",
       "      <td>436802</td>\n",
       "      <td>793319</td>\n",
       "      <td>875073</td>\n",
       "      <td>1355439</td>\n",
       "      <td>https://images.gr-assets.com/books/1361039443m...</td>\n",
       "      <td>https://images.gr-assets.com/books/1361039443s...</td>\n",
       "    </tr>\n",
       "    <tr>\n",
       "      <td>3</td>\n",
       "      <td>4</td>\n",
       "      <td>2657</td>\n",
       "      <td>2657</td>\n",
       "      <td>3275794</td>\n",
       "      <td>487</td>\n",
       "      <td>61120081</td>\n",
       "      <td>9.780061e+12</td>\n",
       "      <td>Harper Lee</td>\n",
       "      <td>1960.0</td>\n",
       "      <td>To Kill a Mockingbird</td>\n",
       "      <td>...</td>\n",
       "      <td>3198671</td>\n",
       "      <td>3340896</td>\n",
       "      <td>72586</td>\n",
       "      <td>60427</td>\n",
       "      <td>117415</td>\n",
       "      <td>446835</td>\n",
       "      <td>1001952</td>\n",
       "      <td>1714267</td>\n",
       "      <td>https://images.gr-assets.com/books/1361975680m...</td>\n",
       "      <td>https://images.gr-assets.com/books/1361975680s...</td>\n",
       "    </tr>\n",
       "    <tr>\n",
       "      <td>4</td>\n",
       "      <td>5</td>\n",
       "      <td>4671</td>\n",
       "      <td>4671</td>\n",
       "      <td>245494</td>\n",
       "      <td>1356</td>\n",
       "      <td>743273567</td>\n",
       "      <td>9.780743e+12</td>\n",
       "      <td>F. Scott Fitzgerald</td>\n",
       "      <td>1925.0</td>\n",
       "      <td>The Great Gatsby</td>\n",
       "      <td>...</td>\n",
       "      <td>2683664</td>\n",
       "      <td>2773745</td>\n",
       "      <td>51992</td>\n",
       "      <td>86236</td>\n",
       "      <td>197621</td>\n",
       "      <td>606158</td>\n",
       "      <td>936012</td>\n",
       "      <td>947718</td>\n",
       "      <td>https://images.gr-assets.com/books/1490528560m...</td>\n",
       "      <td>https://images.gr-assets.com/books/1490528560s...</td>\n",
       "    </tr>\n",
       "  </tbody>\n",
       "</table>\n",
       "<p>5 rows × 23 columns</p>\n",
       "</div>"
      ],
      "text/plain": [
       "   book_id  goodreads_book_id  best_book_id  work_id  books_count       isbn  \\\n",
       "0        1            2767052       2767052  2792775          272  439023483   \n",
       "1        2                  3             3  4640799          491  439554934   \n",
       "2        3              41865         41865  3212258          226  316015849   \n",
       "3        4               2657          2657  3275794          487   61120081   \n",
       "4        5               4671          4671   245494         1356  743273567   \n",
       "\n",
       "         isbn13                      authors  original_publication_year  \\\n",
       "0  9.780439e+12              Suzanne Collins                     2008.0   \n",
       "1  9.780440e+12  J.K. Rowling, Mary GrandPré                     1997.0   \n",
       "2  9.780316e+12              Stephenie Meyer                     2005.0   \n",
       "3  9.780061e+12                   Harper Lee                     1960.0   \n",
       "4  9.780743e+12          F. Scott Fitzgerald                     1925.0   \n",
       "\n",
       "                             original_title  ... ratings_count  \\\n",
       "0                          The Hunger Games  ...       4780653   \n",
       "1  Harry Potter and the Philosopher's Stone  ...       4602479   \n",
       "2                                  Twilight  ...       3866839   \n",
       "3                     To Kill a Mockingbird  ...       3198671   \n",
       "4                          The Great Gatsby  ...       2683664   \n",
       "\n",
       "  work_ratings_count  work_text_reviews_count  ratings_1  ratings_2  \\\n",
       "0            4942365                   155254      66715     127936   \n",
       "1            4800065                    75867      75504     101676   \n",
       "2            3916824                    95009     456191     436802   \n",
       "3            3340896                    72586      60427     117415   \n",
       "4            2773745                    51992      86236     197621   \n",
       "\n",
       "   ratings_3  ratings_4  ratings_5  \\\n",
       "0     560092    1481305    2706317   \n",
       "1     455024    1156318    3011543   \n",
       "2     793319     875073    1355439   \n",
       "3     446835    1001952    1714267   \n",
       "4     606158     936012     947718   \n",
       "\n",
       "                                           image_url  \\\n",
       "0  https://images.gr-assets.com/books/1447303603m...   \n",
       "1  https://images.gr-assets.com/books/1474154022m...   \n",
       "2  https://images.gr-assets.com/books/1361039443m...   \n",
       "3  https://images.gr-assets.com/books/1361975680m...   \n",
       "4  https://images.gr-assets.com/books/1490528560m...   \n",
       "\n",
       "                                     small_image_url  \n",
       "0  https://images.gr-assets.com/books/1447303603s...  \n",
       "1  https://images.gr-assets.com/books/1474154022s...  \n",
       "2  https://images.gr-assets.com/books/1361039443s...  \n",
       "3  https://images.gr-assets.com/books/1361975680s...  \n",
       "4  https://images.gr-assets.com/books/1490528560s...  \n",
       "\n",
       "[5 rows x 23 columns]"
      ]
     },
     "execution_count": 4,
     "metadata": {},
     "output_type": "execute_result"
    }
   ],
   "source": [
    "books_df.head()\n",
    "#ratings_df.head()"
   ]
  },
  {
   "cell_type": "code",
   "execution_count": 26,
   "metadata": {},
   "outputs": [
    {
     "data": {
      "text/plain": [
       "10000"
      ]
     },
     "execution_count": 26,
     "metadata": {},
     "output_type": "execute_result"
    }
   ],
   "source": [
    "books_df.describe()\n",
    "books_df_2 = books_df[['book_id', 'books_count', 'original_publication_year', 'average_rating','original_title','image_url','authors']]\n",
    "\n",
    "books_df_2.head()\n",
    "\n",
    "len(books_df)"
   ]
  },
  {
   "cell_type": "code",
   "execution_count": 7,
   "metadata": {},
   "outputs": [
    {
     "data": {
      "text/plain": [
       "<matplotlib.axes._subplots.AxesSubplot at 0x257b2538898>"
      ]
     },
     "execution_count": 7,
     "metadata": {},
     "output_type": "execute_result"
    },
    {
     "data": {
      "image/png": "[encoded data removed]",
      "text/plain": [
       "<Figure size 432x288 with 1 Axes>"
      ]
     },
     "metadata": {
      "needs_background": "light"
     },
     "output_type": "display_data"
    }
   ],
   "source": [
    "ratings_df.rating.hist(bins=5)"
   ]
  },
  {
   "cell_type": "code",
   "execution_count": 8,
   "metadata": {},
   "outputs": [
    {
     "data": {
      "text/html": [
       "<div>\n",
       "<style scoped>\n",
       "    .dataframe tbody tr th:only-of-type {\n",
       "        vertical-align: middle;\n",
       "    }\n",
       "\n",
       "    .dataframe tbody tr th {\n",
       "        vertical-align: top;\n",
       "    }\n",
       "\n",
       "    .dataframe thead th {\n",
       "        text-align: right;\n",
       "    }\n",
       "</style>\n",
       "<table border=\"1\" class=\"dataframe\">\n",
       "  <thead>\n",
       "    <tr style=\"text-align: right;\">\n",
       "      <th></th>\n",
       "      <th>user_id</th>\n",
       "      <th>book_id</th>\n",
       "      <th>rating</th>\n",
       "    </tr>\n",
       "  </thead>\n",
       "  <tbody>\n",
       "    <tr>\n",
       "      <td>count</td>\n",
       "      <td>5.976479e+06</td>\n",
       "      <td>5.976479e+06</td>\n",
       "      <td>5.976479e+06</td>\n",
       "    </tr>\n",
       "    <tr>\n",
       "      <td>mean</td>\n",
       "      <td>2.622446e+04</td>\n",
       "      <td>2.006477e+03</td>\n",
       "      <td>3.919866e+00</td>\n",
       "    </tr>\n",
       "    <tr>\n",
       "      <td>std</td>\n",
       "      <td>1.541323e+04</td>\n",
       "      <td>2.468499e+03</td>\n",
       "      <td>9.910868e-01</td>\n",
       "    </tr>\n",
       "    <tr>\n",
       "      <td>min</td>\n",
       "      <td>1.000000e+00</td>\n",
       "      <td>1.000000e+00</td>\n",
       "      <td>1.000000e+00</td>\n",
       "    </tr>\n",
       "    <tr>\n",
       "      <td>25%</td>\n",
       "      <td>1.281300e+04</td>\n",
       "      <td>1.980000e+02</td>\n",
       "      <td>3.000000e+00</td>\n",
       "    </tr>\n",
       "    <tr>\n",
       "      <td>50%</td>\n",
       "      <td>2.593800e+04</td>\n",
       "      <td>8.850000e+02</td>\n",
       "      <td>4.000000e+00</td>\n",
       "    </tr>\n",
       "    <tr>\n",
       "      <td>75%</td>\n",
       "      <td>3.950900e+04</td>\n",
       "      <td>2.973000e+03</td>\n",
       "      <td>5.000000e+00</td>\n",
       "    </tr>\n",
       "    <tr>\n",
       "      <td>max</td>\n",
       "      <td>5.342400e+04</td>\n",
       "      <td>1.000000e+04</td>\n",
       "      <td>5.000000e+00</td>\n",
       "    </tr>\n",
       "  </tbody>\n",
       "</table>\n",
       "</div>"
      ],
      "text/plain": [
       "            user_id       book_id        rating\n",
       "count  5.976479e+06  5.976479e+06  5.976479e+06\n",
       "mean   2.622446e+04  2.006477e+03  3.919866e+00\n",
       "std    1.541323e+04  2.468499e+03  9.910868e-01\n",
       "min    1.000000e+00  1.000000e+00  1.000000e+00\n",
       "25%    1.281300e+04  1.980000e+02  3.000000e+00\n",
       "50%    2.593800e+04  8.850000e+02  4.000000e+00\n",
       "75%    3.950900e+04  2.973000e+03  5.000000e+00\n",
       "max    5.342400e+04  1.000000e+04  5.000000e+00"
      ]
     },
     "execution_count": 8,
     "metadata": {},
     "output_type": "execute_result"
    }
   ],
   "source": [
    "ratings_df.describe()"
   ]
  },
  {
   "cell_type": "code",
   "execution_count": 27,
   "metadata": {},
   "outputs": [
    {
     "data": {
      "text/plain": [
       "user_id\n",
       "1        117\n",
       "2         65\n",
       "3         91\n",
       "4        134\n",
       "5        100\n",
       "        ... \n",
       "53420    110\n",
       "53421    110\n",
       "53422    130\n",
       "53423     77\n",
       "53424    133\n",
       "Name: rating, Length: 53424, dtype: int64"
      ]
     },
     "execution_count": 27,
     "metadata": {},
     "output_type": "execute_result"
    }
   ],
   "source": [
    "ratings_df.groupby('user_id')['rating'].count()"
   ]
  },
  {
   "cell_type": "markdown",
   "metadata": {},
   "source": [
    "## Merge books and ratings dataset"
   ]
  },
  {
   "cell_type": "code",
   "execution_count": 9,
   "metadata": {},
   "outputs": [],
   "source": [
    "combined_books_df = pd.merge(ratings_df, books_df, on='book_id')"
   ]
  },
  {
   "cell_type": "markdown",
   "metadata": {},
   "source": []
  },
  {
   "cell_type": "code",
   "execution_count": 10,
   "metadata": {},
   "outputs": [
    {
     "data": {
      "text/html": [
       "<div>\n",
       "<style scoped>\n",
       "    .dataframe tbody tr th:only-of-type {\n",
       "        vertical-align: middle;\n",
       "    }\n",
       "\n",
       "    .dataframe tbody tr th {\n",
       "        vertical-align: top;\n",
       "    }\n",
       "\n",
       "    .dataframe thead th {\n",
       "        text-align: right;\n",
       "    }\n",
       "</style>\n",
       "<table border=\"1\" class=\"dataframe\">\n",
       "  <thead>\n",
       "    <tr style=\"text-align: right;\">\n",
       "      <th></th>\n",
       "      <th>user_id</th>\n",
       "      <th>book_id</th>\n",
       "      <th>rating</th>\n",
       "      <th>goodreads_book_id</th>\n",
       "      <th>best_book_id</th>\n",
       "      <th>work_id</th>\n",
       "      <th>books_count</th>\n",
       "      <th>isbn</th>\n",
       "      <th>isbn13</th>\n",
       "      <th>authors</th>\n",
       "      <th>...</th>\n",
       "      <th>ratings_count</th>\n",
       "      <th>work_ratings_count</th>\n",
       "      <th>work_text_reviews_count</th>\n",
       "      <th>ratings_1</th>\n",
       "      <th>ratings_2</th>\n",
       "      <th>ratings_3</th>\n",
       "      <th>ratings_4</th>\n",
       "      <th>ratings_5</th>\n",
       "      <th>image_url</th>\n",
       "      <th>small_image_url</th>\n",
       "    </tr>\n",
       "  </thead>\n",
       "  <tbody>\n",
       "    <tr>\n",
       "      <td>0</td>\n",
       "      <td>1</td>\n",
       "      <td>258</td>\n",
       "      <td>5</td>\n",
       "      <td>1232</td>\n",
       "      <td>1232</td>\n",
       "      <td>3209783</td>\n",
       "      <td>279</td>\n",
       "      <td>143034901</td>\n",
       "      <td>9.780143e+12</td>\n",
       "      <td>Carlos Ruiz Zafón, Lucia Graves</td>\n",
       "      <td>...</td>\n",
       "      <td>263685</td>\n",
       "      <td>317554</td>\n",
       "      <td>24652</td>\n",
       "      <td>4789</td>\n",
       "      <td>11769</td>\n",
       "      <td>42214</td>\n",
       "      <td>101612</td>\n",
       "      <td>157170</td>\n",
       "      <td>https://images.gr-assets.com/books/1344545047m...</td>\n",
       "      <td>https://images.gr-assets.com/books/1344545047s...</td>\n",
       "    </tr>\n",
       "    <tr>\n",
       "      <td>1</td>\n",
       "      <td>11</td>\n",
       "      <td>258</td>\n",
       "      <td>3</td>\n",
       "      <td>1232</td>\n",
       "      <td>1232</td>\n",
       "      <td>3209783</td>\n",
       "      <td>279</td>\n",
       "      <td>143034901</td>\n",
       "      <td>9.780143e+12</td>\n",
       "      <td>Carlos Ruiz Zafón, Lucia Graves</td>\n",
       "      <td>...</td>\n",
       "      <td>263685</td>\n",
       "      <td>317554</td>\n",
       "      <td>24652</td>\n",
       "      <td>4789</td>\n",
       "      <td>11769</td>\n",
       "      <td>42214</td>\n",
       "      <td>101612</td>\n",
       "      <td>157170</td>\n",
       "      <td>https://images.gr-assets.com/books/1344545047m...</td>\n",
       "      <td>https://images.gr-assets.com/books/1344545047s...</td>\n",
       "    </tr>\n",
       "    <tr>\n",
       "      <td>2</td>\n",
       "      <td>143</td>\n",
       "      <td>258</td>\n",
       "      <td>4</td>\n",
       "      <td>1232</td>\n",
       "      <td>1232</td>\n",
       "      <td>3209783</td>\n",
       "      <td>279</td>\n",
       "      <td>143034901</td>\n",
       "      <td>9.780143e+12</td>\n",
       "      <td>Carlos Ruiz Zafón, Lucia Graves</td>\n",
       "      <td>...</td>\n",
       "      <td>263685</td>\n",
       "      <td>317554</td>\n",
       "      <td>24652</td>\n",
       "      <td>4789</td>\n",
       "      <td>11769</td>\n",
       "      <td>42214</td>\n",
       "      <td>101612</td>\n",
       "      <td>157170</td>\n",
       "      <td>https://images.gr-assets.com/books/1344545047m...</td>\n",
       "      <td>https://images.gr-assets.com/books/1344545047s...</td>\n",
       "    </tr>\n",
       "    <tr>\n",
       "      <td>3</td>\n",
       "      <td>242</td>\n",
       "      <td>258</td>\n",
       "      <td>5</td>\n",
       "      <td>1232</td>\n",
       "      <td>1232</td>\n",
       "      <td>3209783</td>\n",
       "      <td>279</td>\n",
       "      <td>143034901</td>\n",
       "      <td>9.780143e+12</td>\n",
       "      <td>Carlos Ruiz Zafón, Lucia Graves</td>\n",
       "      <td>...</td>\n",
       "      <td>263685</td>\n",
       "      <td>317554</td>\n",
       "      <td>24652</td>\n",
       "      <td>4789</td>\n",
       "      <td>11769</td>\n",
       "      <td>42214</td>\n",
       "      <td>101612</td>\n",
       "      <td>157170</td>\n",
       "      <td>https://images.gr-assets.com/books/1344545047m...</td>\n",
       "      <td>https://images.gr-assets.com/books/1344545047s...</td>\n",
       "    </tr>\n",
       "    <tr>\n",
       "      <td>4</td>\n",
       "      <td>325</td>\n",
       "      <td>258</td>\n",
       "      <td>4</td>\n",
       "      <td>1232</td>\n",
       "      <td>1232</td>\n",
       "      <td>3209783</td>\n",
       "      <td>279</td>\n",
       "      <td>143034901</td>\n",
       "      <td>9.780143e+12</td>\n",
       "      <td>Carlos Ruiz Zafón, Lucia Graves</td>\n",
       "      <td>...</td>\n",
       "      <td>263685</td>\n",
       "      <td>317554</td>\n",
       "      <td>24652</td>\n",
       "      <td>4789</td>\n",
       "      <td>11769</td>\n",
       "      <td>42214</td>\n",
       "      <td>101612</td>\n",
       "      <td>157170</td>\n",
       "      <td>https://images.gr-assets.com/books/1344545047m...</td>\n",
       "      <td>https://images.gr-assets.com/books/1344545047s...</td>\n",
       "    </tr>\n",
       "  </tbody>\n",
       "</table>\n",
       "<p>5 rows × 25 columns</p>\n",
       "</div>"
      ],
      "text/plain": [
       "   user_id  book_id  rating  goodreads_book_id  best_book_id  work_id  \\\n",
       "0        1      258       5               1232          1232  3209783   \n",
       "1       11      258       3               1232          1232  3209783   \n",
       "2      143      258       4               1232          1232  3209783   \n",
       "3      242      258       5               1232          1232  3209783   \n",
       "4      325      258       4               1232          1232  3209783   \n",
       "\n",
       "   books_count       isbn        isbn13                          authors  ...  \\\n",
       "0          279  143034901  9.780143e+12  Carlos Ruiz Zafón, Lucia Graves  ...   \n",
       "1          279  143034901  9.780143e+12  Carlos Ruiz Zafón, Lucia Graves  ...   \n",
       "2          279  143034901  9.780143e+12  Carlos Ruiz Zafón, Lucia Graves  ...   \n",
       "3          279  143034901  9.780143e+12  Carlos Ruiz Zafón, Lucia Graves  ...   \n",
       "4          279  143034901  9.780143e+12  Carlos Ruiz Zafón, Lucia Graves  ...   \n",
       "\n",
       "   ratings_count work_ratings_count work_text_reviews_count ratings_1  \\\n",
       "0         263685             317554                   24652      4789   \n",
       "1         263685             317554                   24652      4789   \n",
       "2         263685             317554                   24652      4789   \n",
       "3         263685             317554                   24652      4789   \n",
       "4         263685             317554                   24652      4789   \n",
       "\n",
       "   ratings_2  ratings_3  ratings_4  ratings_5  \\\n",
       "0      11769      42214     101612     157170   \n",
       "1      11769      42214     101612     157170   \n",
       "2      11769      42214     101612     157170   \n",
       "3      11769      42214     101612     157170   \n",
       "4      11769      42214     101612     157170   \n",
       "\n",
       "                                           image_url  \\\n",
       "0  https://images.gr-assets.com/books/1344545047m...   \n",
       "1  https://images.gr-assets.com/books/1344545047m...   \n",
       "2  https://images.gr-assets.com/books/1344545047m...   \n",
       "3  https://images.gr-assets.com/books/1344545047m...   \n",
       "4  https://images.gr-assets.com/books/1344545047m...   \n",
       "\n",
       "                                     small_image_url  \n",
       "0  https://images.gr-assets.com/books/1344545047s...  \n",
       "1  https://images.gr-assets.com/books/1344545047s...  \n",
       "2  https://images.gr-assets.com/books/1344545047s...  \n",
       "3  https://images.gr-assets.com/books/1344545047s...  \n",
       "4  https://images.gr-assets.com/books/1344545047s...  \n",
       "\n",
       "[5 rows x 25 columns]"
      ]
     },
     "execution_count": 10,
     "metadata": {},
     "output_type": "execute_result"
    }
   ],
   "source": [
    "combined_books_df.head()"
   ]
  },
  {
   "cell_type": "markdown",
   "metadata": {},
   "source": [
    "### Get most rated books"
   ]
  },
  {
   "cell_type": "code",
   "execution_count": 11,
   "metadata": {},
   "outputs": [
    {
     "data": {
      "text/plain": [
       "book_id\n",
       "1       22806\n",
       "2       21850\n",
       "4       19088\n",
       "3       16931\n",
       "5       16604\n",
       "        ...  \n",
       "9315       36\n",
       "1935       33\n",
       "9486       24\n",
       "9345       11\n",
       "7803        8\n",
       "Name: rating, Length: 10000, dtype: int64"
      ]
     },
     "execution_count": 11,
     "metadata": {},
     "output_type": "execute_result"
    }
   ],
   "source": [
    "combined_books_df.groupby('book_id')['rating'].count().sort_values(ascending=False)"
   ]
  },
  {
   "cell_type": "code",
   "execution_count": 56,
   "metadata": {},
   "outputs": [
    {
     "data": {
      "text/plain": [
       "array([\"Harry Potter and the Philosopher's Stone\", 'The Great Gatsby',\n",
       "       'The Catcher in the Rye', 'Angels & Demons ',\n",
       "       'To Kill a Mockingbird', 'The Hobbit or There and Back Again',\n",
       "       'Twilight', 'The Hunger Games', 'The Fault in Our Stars'],\n",
       "      dtype=object)"
      ]
     },
     "execution_count": 56,
     "metadata": {},
     "output_type": "execute_result"
    }
   ],
   "source": [
    "Filter = combined_books_df['book_id'] < 10\n",
    "combined_books_df[Filter]['original_title'].unique()\n",
    "#printBookCover(Filter)"
   ]
  },
  {
   "cell_type": "code",
   "execution_count": 80,
   "metadata": {},
   "outputs": [
    {
     "data": {
      "image/jpeg": "[encoded data removed]",
      "text/plain": [
       "<IPython.core.display.Image object>"
      ]
     },
     "execution_count": 80,
     "metadata": {},
     "output_type": "execute_result"
    }
   ],
   "source": [
    "url =combined_books_df[Filter]['image_url'].unique()[8]\n",
    "Disp.Image(requests.get(url).content)"
   ]
  },
  {
   "cell_type": "markdown",
   "metadata": {},
   "source": [
    "### Create Pivot Table of User Vs Movies"
   ]
  },
  {
   "cell_type": "code",
   "execution_count": 30,
   "metadata": {},
   "outputs": [],
   "source": [
    "ct_df = combined_books_df.pivot_table(values='rating', index='user_id', columns='original_title', fill_value=0)"
   ]
  },
  {
   "cell_type": "code",
   "execution_count": 31,
   "metadata": {},
   "outputs": [
    {
     "data": {
      "text/html": [
       "<div>\n",
       "<style scoped>\n",
       "    .dataframe tbody tr th:only-of-type {\n",
       "        vertical-align: middle;\n",
       "    }\n",
       "\n",
       "    .dataframe tbody tr th {\n",
       "        vertical-align: top;\n",
       "    }\n",
       "\n",
       "    .dataframe thead th {\n",
       "        text-align: right;\n",
       "    }\n",
       "</style>\n",
       "<table border=\"1\" class=\"dataframe\">\n",
       "  <thead>\n",
       "    <tr style=\"text-align: right;\">\n",
       "      <th>original_title</th>\n",
       "      <th></th>\n",
       "      <th>A Monster Calls</th>\n",
       "      <th>Animal Farm &amp; 1984</th>\n",
       "      <th>Burned (Burned, #1)</th>\n",
       "      <th>Call the midwife : a true story of the East End in the 1950s</th>\n",
       "      <th>Carry On, Warrior: Thoughts on Life Unarmed</th>\n",
       "      <th>Carter Beats the Devil</th>\n",
       "      <th>Crown of Shadows</th>\n",
       "      <th>Daemon</th>\n",
       "      <th>De Imitatione Christi</th>\n",
       "      <th>...</th>\n",
       "      <th>電撃デイジー 1</th>\n",
       "      <th>青の祓魔師 1</th>\n",
       "      <th>青の祓魔師 2</th>\n",
       "      <th>高校デビュー 1</th>\n",
       "      <th>黑暗森林</th>\n",
       "      <th>黒執事 I [Kuroshitsuji I]</th>\n",
       "      <th>黒執事 II [Kuroshitsuji II]</th>\n",
       "      <th>黒執事 III [Kuroshitsuji III]</th>\n",
       "      <th>엄마를 부탁해</th>\n",
       "      <th>채식주의자</th>\n",
       "    </tr>\n",
       "    <tr>\n",
       "      <th>user_id</th>\n",
       "      <th></th>\n",
       "      <th></th>\n",
       "      <th></th>\n",
       "      <th></th>\n",
       "      <th></th>\n",
       "      <th></th>\n",
       "      <th></th>\n",
       "      <th></th>\n",
       "      <th></th>\n",
       "      <th></th>\n",
       "      <th></th>\n",
       "      <th></th>\n",
       "      <th></th>\n",
       "      <th></th>\n",
       "      <th></th>\n",
       "      <th></th>\n",
       "      <th></th>\n",
       "      <th></th>\n",
       "      <th></th>\n",
       "      <th></th>\n",
       "      <th></th>\n",
       "    </tr>\n",
       "  </thead>\n",
       "  <tbody>\n",
       "    <tr>\n",
       "      <td>1</td>\n",
       "      <td>0.0</td>\n",
       "      <td>0</td>\n",
       "      <td>0</td>\n",
       "      <td>0</td>\n",
       "      <td>0</td>\n",
       "      <td>0</td>\n",
       "      <td>0</td>\n",
       "      <td>0</td>\n",
       "      <td>0</td>\n",
       "      <td>0</td>\n",
       "      <td>...</td>\n",
       "      <td>0</td>\n",
       "      <td>0</td>\n",
       "      <td>0</td>\n",
       "      <td>0</td>\n",
       "      <td>0</td>\n",
       "      <td>0</td>\n",
       "      <td>0</td>\n",
       "      <td>0</td>\n",
       "      <td>0</td>\n",
       "      <td>0</td>\n",
       "    </tr>\n",
       "    <tr>\n",
       "      <td>2</td>\n",
       "      <td>0.0</td>\n",
       "      <td>0</td>\n",
       "      <td>0</td>\n",
       "      <td>0</td>\n",
       "      <td>0</td>\n",
       "      <td>0</td>\n",
       "      <td>0</td>\n",
       "      <td>0</td>\n",
       "      <td>0</td>\n",
       "      <td>0</td>\n",
       "      <td>...</td>\n",
       "      <td>0</td>\n",
       "      <td>0</td>\n",
       "      <td>0</td>\n",
       "      <td>0</td>\n",
       "      <td>0</td>\n",
       "      <td>0</td>\n",
       "      <td>0</td>\n",
       "      <td>0</td>\n",
       "      <td>0</td>\n",
       "      <td>0</td>\n",
       "    </tr>\n",
       "    <tr>\n",
       "      <td>3</td>\n",
       "      <td>0.0</td>\n",
       "      <td>0</td>\n",
       "      <td>0</td>\n",
       "      <td>0</td>\n",
       "      <td>0</td>\n",
       "      <td>0</td>\n",
       "      <td>0</td>\n",
       "      <td>0</td>\n",
       "      <td>0</td>\n",
       "      <td>0</td>\n",
       "      <td>...</td>\n",
       "      <td>0</td>\n",
       "      <td>0</td>\n",
       "      <td>0</td>\n",
       "      <td>0</td>\n",
       "      <td>0</td>\n",
       "      <td>0</td>\n",
       "      <td>0</td>\n",
       "      <td>0</td>\n",
       "      <td>0</td>\n",
       "      <td>0</td>\n",
       "    </tr>\n",
       "    <tr>\n",
       "      <td>4</td>\n",
       "      <td>0.0</td>\n",
       "      <td>0</td>\n",
       "      <td>0</td>\n",
       "      <td>0</td>\n",
       "      <td>0</td>\n",
       "      <td>0</td>\n",
       "      <td>0</td>\n",
       "      <td>0</td>\n",
       "      <td>0</td>\n",
       "      <td>0</td>\n",
       "      <td>...</td>\n",
       "      <td>0</td>\n",
       "      <td>0</td>\n",
       "      <td>0</td>\n",
       "      <td>0</td>\n",
       "      <td>0</td>\n",
       "      <td>0</td>\n",
       "      <td>0</td>\n",
       "      <td>0</td>\n",
       "      <td>0</td>\n",
       "      <td>0</td>\n",
       "    </tr>\n",
       "    <tr>\n",
       "      <td>5</td>\n",
       "      <td>0.0</td>\n",
       "      <td>0</td>\n",
       "      <td>0</td>\n",
       "      <td>0</td>\n",
       "      <td>0</td>\n",
       "      <td>0</td>\n",
       "      <td>0</td>\n",
       "      <td>0</td>\n",
       "      <td>0</td>\n",
       "      <td>0</td>\n",
       "      <td>...</td>\n",
       "      <td>0</td>\n",
       "      <td>0</td>\n",
       "      <td>0</td>\n",
       "      <td>0</td>\n",
       "      <td>0</td>\n",
       "      <td>0</td>\n",
       "      <td>0</td>\n",
       "      <td>0</td>\n",
       "      <td>0</td>\n",
       "      <td>0</td>\n",
       "    </tr>\n",
       "  </tbody>\n",
       "</table>\n",
       "<p>5 rows × 9274 columns</p>\n",
       "</div>"
      ],
      "text/plain": [
       "original_title        A Monster Calls    Animal Farm & 1984  \\\n",
       "user_id                                                       \n",
       "1               0.0                  0                    0   \n",
       "2               0.0                  0                    0   \n",
       "3               0.0                  0                    0   \n",
       "4               0.0                  0                    0   \n",
       "5               0.0                  0                    0   \n",
       "\n",
       "original_title   Burned (Burned, #1)  \\\n",
       "user_id                                \n",
       "1                                  0   \n",
       "2                                  0   \n",
       "3                                  0   \n",
       "4                                  0   \n",
       "5                                  0   \n",
       "\n",
       "original_title   Call the midwife : a true story of the East End in the 1950s  \\\n",
       "user_id                                                                         \n",
       "1                                                               0               \n",
       "2                                                               0               \n",
       "3                                                               0               \n",
       "4                                                               0               \n",
       "5                                                               0               \n",
       "\n",
       "original_title   Carry On, Warrior: Thoughts on Life Unarmed   \\\n",
       "user_id                                                         \n",
       "1                                                           0   \n",
       "2                                                           0   \n",
       "3                                                           0   \n",
       "4                                                           0   \n",
       "5                                                           0   \n",
       "\n",
       "original_title   Carter Beats the Devil   Crown of Shadows   Daemon  \\\n",
       "user_id                                                               \n",
       "1                                     0                  0        0   \n",
       "2                                     0                  0        0   \n",
       "3                                     0                  0        0   \n",
       "4                                     0                  0        0   \n",
       "5                                     0                  0        0   \n",
       "\n",
       "original_title   De Imitatione Christi  ...  電撃デイジー 1  青の祓魔師 1  青の祓魔師 2  \\\n",
       "user_id                                 ...                               \n",
       "1                                    0  ...         0        0        0   \n",
       "2                                    0  ...         0        0        0   \n",
       "3                                    0  ...         0        0        0   \n",
       "4                                    0  ...         0        0        0   \n",
       "5                                    0  ...         0        0        0   \n",
       "\n",
       "original_title  高校デビュー 1  黑暗森林  黒執事 I [Kuroshitsuji I]  \\\n",
       "user_id                                                  \n",
       "1                      0     0                       0   \n",
       "2                      0     0                       0   \n",
       "3                      0     0                       0   \n",
       "4                      0     0                       0   \n",
       "5                      0     0                       0   \n",
       "\n",
       "original_title  黒執事 II [Kuroshitsuji II]  黒執事 III [Kuroshitsuji III]  엄마를 부탁해  \\\n",
       "user_id                                                                         \n",
       "1                                      0                           0        0   \n",
       "2                                      0                           0        0   \n",
       "3                                      0                           0        0   \n",
       "4                                      0                           0        0   \n",
       "5                                      0                           0        0   \n",
       "\n",
       "original_title  채식주의자   \n",
       "user_id                 \n",
       "1                    0  \n",
       "2                    0  \n",
       "3                    0  \n",
       "4                    0  \n",
       "5                    0  \n",
       "\n",
       "[5 rows x 9274 columns]"
      ]
     },
     "execution_count": 31,
     "metadata": {},
     "output_type": "execute_result"
    }
   ],
   "source": [
    "ct_df.head()"
   ]
  },
  {
   "cell_type": "code",
   "execution_count": 32,
   "metadata": {},
   "outputs": [
    {
     "data": {
      "text/plain": [
       "(9274, 53424)"
      ]
     },
     "execution_count": 32,
     "metadata": {},
     "output_type": "execute_result"
    }
   ],
   "source": [
    "X = ct_df.values.T\n",
    "X.shape"
   ]
  },
  {
   "cell_type": "markdown",
   "metadata": {},
   "source": [
    "### Compress dataset by applying Singular Value Decomposistion (SVD)"
   ]
  },
  {
   "cell_type": "code",
   "execution_count": 34,
   "metadata": {},
   "outputs": [
    {
     "data": {
      "text/plain": [
       "(9274, 20)"
      ]
     },
     "execution_count": 34,
     "metadata": {},
     "output_type": "execute_result"
    }
   ],
   "source": [
    "SVD  = TruncatedSVD(n_components=20, random_state=17)\n",
    "result_matrix = SVD.fit_transform(X)\n",
    "result_matrix.shape"
   ]
  },
  {
   "cell_type": "markdown",
   "metadata": {},
   "source": [
    "### Create Pearson coorelation matrix"
   ]
  },
  {
   "cell_type": "code",
   "execution_count": 35,
   "metadata": {},
   "outputs": [
    {
     "data": {
      "text/plain": [
       "(9274, 9274)"
      ]
     },
     "execution_count": 35,
     "metadata": {},
     "output_type": "execute_result"
    }
   ],
   "source": [
    "corr_mat = np.corrcoef(result_matrix)\n",
    "corr_mat.shape"
   ]
  },
  {
   "cell_type": "markdown",
   "metadata": {},
   "source": [
    "### Print books related to specified book\n"
   ]
  },
  {
   "cell_type": "code",
   "execution_count": 71,
   "metadata": {},
   "outputs": [],
   "source": [
    "book_names = ct_df.columns\n",
    "book_list = list(book_names)\n",
    "hunger_game_index = book_list.index('The Hunger Games')\n"
   ]
  },
  {
   "cell_type": "code",
   "execution_count": 72,
   "metadata": {},
   "outputs": [
    {
     "data": {
      "text/plain": [
       "(9274,)"
      ]
     },
     "execution_count": 72,
     "metadata": {},
     "output_type": "execute_result"
    }
   ],
   "source": [
    "corr_hunger_games = corr_mat[hunger_game_index]\n",
    "corr_hunger_games.shape"
   ]
  },
  {
   "cell_type": "code",
   "execution_count": 73,
   "metadata": {},
   "outputs": [
    {
     "data": {
      "text/plain": [
       "['Catching Fire',\n",
       " 'Mockingjay',\n",
       " 'Pride and Prejudice and Zombies',\n",
       " 'The Host',\n",
       " 'The Hunger Games Box Set',\n",
       " 'Twilight']"
      ]
     },
     "execution_count": 73,
     "metadata": {},
     "output_type": "execute_result"
    }
   ],
   "source": [
    "list(book_names[(corr_hunger_games<1.0) & (corr_hunger_games>0.8)])"
   ]
  }
 ],
 "metadata": {
  "kernelspec": {
   "display_name": "Python 3",
   "language": "python",
   "name": "python3"
  },
  "language_info": {
   "codemirror_mode": {
    "name": "ipython",
    "version": 3
   },
   "file_extension": ".py",
   "mimetype": "text/x-python",
   "name": "python",
   "nbconvert_exporter": "python",
   "pygments_lexer": "ipython3",
   "version": "3.7.3"
  }
 },
 "nbformat": 4,
 "nbformat_minor": 2
}
